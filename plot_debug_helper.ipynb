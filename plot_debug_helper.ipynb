{
 "cells": [
  {
   "cell_type": "code",
   "execution_count": 1,
   "metadata": {},
   "outputs": [],
   "source": [
    "import numpy\n",
    "import scipy.io\n",
    "import collections.abc\n",
    "\n",
    "class structtype(collections.abc.MutableMapping):\n",
    "    def __init__(self,struct_fields=None,field_values=None,**kwargs):\n",
    "        if not(type(struct_fields) is type(None)):\n",
    "            #assert not(type(values) is type(None)),\"if you provide field names, you must provide field values\"\n",
    "            if not self._is_iterable(struct_fields):\n",
    "                struct_fields = [struct_fields]\n",
    "                field_values = [field_values]\n",
    "            kwargs.update({f:v for f,v in zip(struct_fields,field_values)})\n",
    "        self.Set(**kwargs)\n",
    "    def Set(self,**kwargs):\n",
    "        self.__dict__.update(kwargs)\n",
    "        return self\n",
    "    def SetAttr(self,field,value):\n",
    "        if not self._is_iterable(field):\n",
    "            field = [field]\n",
    "            value = [value]\n",
    "        self.__dict__.update({f:v for f,v in zip(field,value)})\n",
    "        return self\n",
    "    def GetFields(self):\n",
    "        return '; '.join([ k for k in self.__dict__.keys() if (k[0:2] != '__') and (k[-2:] != '__') ])\n",
    "        #return self.__dict__.keys()\n",
    "    def IsField(self,field):\n",
    "        return field in self.__dict__.keys()\n",
    "    def RemoveField(self,field):\n",
    "        return self.__dict__.pop(field,None)\n",
    "    def RemoveFields(self,*fields):\n",
    "        r = []\n",
    "        for k in fields:\n",
    "            r.append(self.__dict__.pop(k,None))\n",
    "        return r\n",
    "    def KeepFields(self,*fields):\n",
    "        keys = list(self.__dict__.keys())\n",
    "        for k in keys:\n",
    "            if not (k in fields):\n",
    "                self.__dict__.pop(k,None)\n",
    "    def __setitem__(self,label,value):\n",
    "        self.__dict__[label] = value\n",
    "    def __getitem__(self,label):\n",
    "        return self.__dict__[label]\n",
    "    def __repr__(self):\n",
    "        type_name = type(self).__name__\n",
    "        arg_strings = []\n",
    "        star_args = {}\n",
    "        for arg in self._get_args():\n",
    "            arg_strings.append(repr(arg))\n",
    "        for name, value in self._get_kwargs():\n",
    "            if name.isidentifier():\n",
    "                arg_strings.append('%s=%r' % (name, value))\n",
    "            else:\n",
    "                star_args[name] = value\n",
    "        if star_args:\n",
    "            arg_strings.append('**%s' % repr(star_args))\n",
    "        return '%s(%s)' % (type_name, ', '.join(arg_strings))\n",
    "    def _get_kwargs(self):\n",
    "        return sorted(self.__dict__.items())\n",
    "    def _get_args(self):\n",
    "        return []\n",
    "    def _is_iterable(self,obj):\n",
    "        return (type(obj) is list) or (type(obj) is tuple)\n",
    "    def __delitem__(self,*args):\n",
    "        self.__dict__.__delitem__(*args)\n",
    "    def __len__(self):\n",
    "        return self.__dict__.__len__()\n",
    "    def __iter__(self):\n",
    "        return iter(self.__dict__)\n"
   ]
  },
  {
   "cell_type": "code",
   "execution_count": 8,
   "metadata": {},
   "outputs": [
    {
     "data": {
      "text/plain": [
       "array([], dtype=float64)"
      ]
     },
     "execution_count": 8,
     "metadata": {},
     "output_type": "execute_result"
    }
   ],
   "source": [
    "d = structtype(**scipy.io.loadmat('rho_timeseries_1.mat',squeeze_me=True))\n",
    "d.rho"
   ]
  }
 ],
 "metadata": {
  "kernelspec": {
   "display_name": "Python 3",
   "language": "python",
   "name": "python3"
  },
  "language_info": {
   "codemirror_mode": {
    "name": "ipython",
    "version": 3
   },
   "file_extension": ".py",
   "mimetype": "text/x-python",
   "name": "python",
   "nbconvert_exporter": "python",
   "pygments_lexer": "ipython3",
   "version": "3.8.2"
  }
 },
 "nbformat": 4,
 "nbformat_minor": 2
}
